{
 "cells": [
  {
   "cell_type": "code",
   "execution_count": 1,
   "id": "d54f8f54",
   "metadata": {},
   "outputs": [
    {
     "data": {
      "text/plain": [
       "'d:\\\\Capestone projects\\\\Project_2\\\\document_summarization_for_legal_texts\\\\research'"
      ]
     },
     "execution_count": 1,
     "metadata": {},
     "output_type": "execute_result"
    }
   ],
   "source": [
    "%pwd"
   ]
  },
  {
   "cell_type": "code",
   "execution_count": 2,
   "metadata": {},
   "outputs": [
    {
     "data": {
      "text/plain": [
       "'d:\\\\Capestone projects\\\\Project_2\\\\document_summarization_for_legal_texts'"
      ]
     },
     "execution_count": 2,
     "metadata": {},
     "output_type": "execute_result"
    }
   ],
   "source": [
    "import os\n",
    "os.chdir(\"../\")\n",
    "%pwd"
   ]
  },
  {
   "cell_type": "code",
   "execution_count": 3,
   "metadata": {},
   "outputs": [],
   "source": [
    "from dataclasses import dataclass\n",
    "from pathlib import Path\n",
    "\n",
    "@dataclass(frozen=True)\n",
    "class DataTransformationConfig:\n",
    "    \"\"\"\n",
    "    Data Transformation Configuration\n",
    "    \"\"\"\n",
    "    root_dir: Path\n",
    "    data_path: Path\n",
    "    tokenizer_name: Path"
   ]
  },
  {
   "cell_type": "code",
   "execution_count": 4,
   "id": "ba3e8380",
   "metadata": {},
   "outputs": [],
   "source": [
    "from datascience.constants import *\n",
    "from datascience.utils.common import read_yaml, create_directories"
   ]
  },
  {
   "cell_type": "code",
   "execution_count": 5,
   "id": "8c5d6995",
   "metadata": {},
   "outputs": [],
   "source": [
    "class configuration_manager:\n",
    "    def __init__(\n",
    "        self,\n",
    "        config_filepath = CONFIG_FILE_PATH,\n",
    "        params_filepath = PARAMS_FILE_PATH):\n",
    "\n",
    "        self.config = read_yaml(config_filepath)\n",
    "        self.params = read_yaml(params_filepath)\n",
    "\n",
    "        create_directories([self.config.artifacts_root])\n",
    "        \n",
    "        \n",
    "    def get_data_transformation_config(self) -> DataTransformationConfig:\n",
    "        \"\"\"\n",
    "        method to get data transformation configuration\n",
    "        \"\"\"\n",
    "        config = self.config.data_transformation\n",
    "        data_transformation_config = DataTransformationConfig(\n",
    "            root_dir = config.root_dir,\n",
    "            data_path = config.data_path,\n",
    "            tokenizer_name = config.tokenizer_name\n",
    "        )\n",
    "        \n",
    "        return data_transformation_config"
   ]
  },
  {
   "cell_type": "code",
   "execution_count": 6,
   "metadata": {},
   "outputs": [
    {
     "name": "stderr",
     "output_type": "stream",
     "text": [
      "c:\\Users\\Admin\\anaconda3\\envs\\summary\\lib\\site-packages\\tqdm\\auto.py:21: TqdmWarning: IProgress not found. Please update jupyter and ipywidgets. See https://ipywidgets.readthedocs.io/en/stable/user_install.html\n",
      "  from .autonotebook import tqdm as notebook_tqdm\n"
     ]
    },
    {
     "name": "stdout",
     "output_type": "stream",
     "text": [
      "[2025-07-05 10:08:06,861] -> [INFO]: config - PyTorch version 2.7.1 available.\n"
     ]
    }
   ],
   "source": [
    "import os\n",
    "from datascience.logging import logger\n",
    "from transformers import AutoTokenizer\n",
    "from datasets import load_dataset, load_from_disk"
   ]
  },
  {
   "cell_type": "code",
   "execution_count": 9,
   "id": "f225c49f",
   "metadata": {},
   "outputs": [],
   "source": [
    "class DataTransformation:\n",
    "    def __init__(self, config: DataTransformationConfig):\n",
    "        self.config = config\n",
    "        self.tokenizer = AutoTokenizer.from_pretrained(self.config.tokenizer_name)\n",
    "        \n",
    "    def convert_examples_to_features(self, example_batch):\n",
    "        judgements = [str(j) if j is not None else \"\" for j in example_batch['judgement']]\n",
    "        summaries = [str(s) if s is not None else \"\" for s in example_batch['summary']]\n",
    "        input_encodings = self.tokenizer(judgements, max_length=1024, truncation=True)\n",
    "        with self.tokenizer.as_target_tokenizer():\n",
    "            target_encodings = self.tokenizer(summaries, max_length=128, truncation=True)\n",
    "        return {\n",
    "            'input_ids': input_encodings['input_ids'],\n",
    "            'attention_mask': input_encodings['attention_mask'],\n",
    "            'labels': target_encodings['input_ids']\n",
    "        }\n",
    "    \n",
    "\n",
    "    def convert(self):\n",
    "        dataset_legal = load_dataset(\"csv\",data_files={\n",
    "            \"train\": \"artifacts/data_ingestion/train_dataset.csv\",\n",
    "            \"test\": \"artifacts/data_ingestion/test_dataset.csv\"\n",
    "            }\n",
    "                                     )\n",
    "        dataset_legal_pt = dataset_legal.map(self.convert_examples_to_features, batched = True)\n",
    "        dataset_legal_pt.save_to_disk(os.path.join(self.config.root_dir,\"legal_summary\"))"
   ]
  },
  {
   "cell_type": "code",
   "execution_count": 10,
   "id": "e57de8e4",
   "metadata": {},
   "outputs": [
    {
     "name": "stdout",
     "output_type": "stream",
     "text": [
      "[2025-07-05 10:11:46,000] -> [INFO]: common - yaml file: config\\config.yaml loaded successfully\n",
      "[2025-07-05 10:11:46,006] -> [INFO]: common - yaml file: params.yaml loaded successfully\n",
      "[2025-07-05 10:11:46,010] -> [INFO]: common - created directory at: artifacts\n"
     ]
    },
    {
     "name": "stderr",
     "output_type": "stream",
     "text": [
      "Map: 100%|██████████| 6000/6000 [01:18<00:00, 76.35 examples/s] \n",
      "Map: 100%|██████████| 100/100 [00:01<00:00, 54.69 examples/s]\n",
      "Saving the dataset (1/1 shards): 100%|██████████| 6000/6000 [00:00<00:00, 22121.88 examples/s]\n",
      "Saving the dataset (1/1 shards): 100%|██████████| 100/100 [00:00<00:00, 6637.92 examples/s]\n"
     ]
    }
   ],
   "source": [
    "try:\n",
    "    config = configuration_manager()\n",
    "    data_transformation_config = config.get_data_transformation_config()\n",
    "    data_transformation = DataTransformation(config=data_transformation_config)\n",
    "    data_transformation.convert()\n",
    "    \n",
    "except Exception as e:\n",
    "    raise e"
   ]
  },
  {
   "cell_type": "code",
   "execution_count": null,
   "id": "8cb8a6ae",
   "metadata": {},
   "outputs": [],
   "source": []
  },
  {
   "cell_type": "code",
   "execution_count": null,
   "id": "3bebc7e6",
   "metadata": {},
   "outputs": [],
   "source": []
  },
  {
   "cell_type": "code",
   "execution_count": null,
   "id": "49b55b1e",
   "metadata": {},
   "outputs": [],
   "source": []
  },
  {
   "cell_type": "code",
   "execution_count": null,
   "id": "7b977c22",
   "metadata": {},
   "outputs": [],
   "source": []
  }
 ],
 "metadata": {
  "kernelspec": {
   "display_name": "summary",
   "language": "python",
   "name": "python3"
  },
  "language_info": {
   "codemirror_mode": {
    "name": "ipython",
    "version": 3
   },
   "file_extension": ".py",
   "mimetype": "text/x-python",
   "name": "python",
   "nbconvert_exporter": "python",
   "pygments_lexer": "ipython3",
   "version": "3.10.0"
  }
 },
 "nbformat": 4,
 "nbformat_minor": 5
}
