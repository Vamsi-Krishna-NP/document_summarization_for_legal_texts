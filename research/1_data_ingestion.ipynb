{
 "cells": [
  {
   "cell_type": "code",
   "execution_count": 1,
   "id": "3a84623c",
   "metadata": {},
   "outputs": [],
   "source": [
    "import os"
   ]
  },
  {
   "cell_type": "code",
   "execution_count": 2,
   "id": "b264bc98",
   "metadata": {},
   "outputs": [
    {
     "data": {
      "text/plain": [
       "'d:\\\\Capestone projects\\\\Project_2\\\\document_summarization_for_legal_texts\\\\research'"
      ]
     },
     "execution_count": 2,
     "metadata": {},
     "output_type": "execute_result"
    }
   ],
   "source": [
    "%pwd"
   ]
  },
  {
   "cell_type": "code",
   "execution_count": 3,
   "metadata": {},
   "outputs": [],
   "source": [
    "os.chdir(\"..//\")"
   ]
  },
  {
   "cell_type": "code",
   "execution_count": 4,
   "id": "8b4957d5",
   "metadata": {},
   "outputs": [
    {
     "data": {
      "text/plain": [
       "'d:\\\\Capestone projects\\\\Project_2\\\\document_summarization_for_legal_texts'"
      ]
     },
     "execution_count": 4,
     "metadata": {},
     "output_type": "execute_result"
    }
   ],
   "source": [
    "%pwd"
   ]
  },
  {
   "cell_type": "code",
   "execution_count": 5,
   "id": "77161d11",
   "metadata": {},
   "outputs": [],
   "source": [
    "from dataclasses import dataclass\n",
    "from pathlib import Path\n",
    "\n",
    "@dataclass(frozen=True)\n",
    "class DataIngestionConfig:\n",
    "    \"\"\"\n",
    "    Data Ingestion Configuration\n",
    "    \"\"\"\n",
    "    root_dir: Path\n",
    "    source_URL: str\n",
    "    locate_data_file: Path\n",
    "    unzip_dir: Path"
   ]
  },
  {
   "cell_type": "code",
   "execution_count": 6,
   "id": "27bd301b",
   "metadata": {},
   "outputs": [],
   "source": [
    "from datascience.constants import *\n",
    "from datascience.utils.common import read_yaml, create_directories"
   ]
  },
  {
   "cell_type": "code",
   "execution_count": 7,
   "id": "eb28ed2c",
   "metadata": {},
   "outputs": [],
   "source": [
    "class configuration_manager:\n",
    "    def __init__(\n",
    "        self,\n",
    "        config_file_path: Path = CONFIG_FILE_PATH,\n",
    "        params_file_path: Path = PARAMS_FILE_PATH\n",
    "    ):\n",
    "        self.config = read_yaml(config_file_path)\n",
    "        self.params = read_yaml(params_file_path)\n",
    "\n",
    "        create_directories([self.config.artifacts_root])\n",
    "        \n",
    "    def get_data_ingestion_config(self) -> DataIngestionConfig:\n",
    "        \"\"\"\n",
    "        Returns Data Ingestion Configuration\n",
    "        \"\"\"\n",
    "        config = self.config.data_ingestion\n",
    "        create_directories([config.root_dir, config.unzip_dir])\n",
    "        data_ingestion_config = DataIngestionConfig(\n",
    "            root_dir=Path(config.root_dir),\n",
    "            source_URL=config.source_URL,\n",
    "            locate_data_file=Path(config.locate_data_file),\n",
    "            unzip_dir=Path(config.unzip_dir)\n",
    "        )\n",
    "        return data_ingestion_config"
   ]
  },
  {
   "cell_type": "code",
   "execution_count": 8,
   "id": "c649db13",
   "metadata": {},
   "outputs": [],
   "source": [
    "import os\n",
    "import urllib.request as request\n",
    "import zipfile\n",
    "from datascience.logging import logger\n",
    "from datascience.utils.common import get_size"
   ]
  },
  {
   "cell_type": "code",
   "execution_count": 9,
   "id": "fd4244f7",
   "metadata": {},
   "outputs": [],
   "source": [
    "class DataIngestion:\n",
    "    def __init__(self, config: DataIngestionConfig):\n",
    "        self.config = config\n",
    "\n",
    "\n",
    "    \n",
    "    def download_file(self):\n",
    "        if not os.path.exists(self.config.locate_data_file):\n",
    "            filename, headers = request.urlretrieve(\n",
    "                url = self.config.source_URL,\n",
    "                filename = self.config.locate_data_file\n",
    "            )\n",
    "            logger.info(f\"{filename} download! with following info: \\n{headers}\")\n",
    "        else:\n",
    "            logger.info(f\"File already exists of size: {get_size(Path(self.config.locate_data_file))}\")  \n",
    "\n",
    "        \n",
    "    \n",
    "    def extract_zip_file(self):\n",
    "        \"\"\"\n",
    "        zip_file_path: str\n",
    "        Extracts the zip file into the data directory\n",
    "        Function returns None\n",
    "        \"\"\"\n",
    "        unzip_path = self.config.unzip_dir\n",
    "        os.makedirs(unzip_path, exist_ok=True)\n",
    "        with zipfile.ZipFile(self.config.locate_data_file, 'r') as zip_ref:\n",
    "            zip_ref.extractall(unzip_path)"
   ]
  },
  {
   "cell_type": "code",
   "execution_count": 12,
   "id": "00073e9f",
   "metadata": {},
   "outputs": [
    {
     "name": "stdout",
     "output_type": "stream",
     "text": [
      "Downloading from https://github.com/Vamsi-Krishna-NP/Just_datasets/raw/main/legal_documents.zip...\n",
      "Downloaded to artifacts\\data_ingestion\\Legal_texts.zip\n",
      "ZIP file is valid!\n"
     ]
    }
   ],
   "source": [
    "import urllib.request\n",
    "from pathlib import Path\n",
    "import zipfile\n",
    "\n",
    "url = 'https://github.com/Vamsi-Krishna-NP/Just_datasets/raw/main/legal_documents.zip'\n",
    "output_path = Path('artifacts/data_ingestion/Legal_texts.zip')\n",
    "output_path.parent.mkdir(parents=True, exist_ok=True)\n",
    "\n",
    "# Download the file\n",
    "print(f'Downloading from {url}...')\n",
    "urllib.request.urlretrieve(url, output_path)\n",
    "print(f'Downloaded to {output_path}')\n",
    "\n",
    "# Check if the file is a valid zip\n",
    "try:\n",
    "    with zipfile.ZipFile(output_path, 'r') as zip_ref:\n",
    "        print('ZIP file is valid!')\n",
    "except Exception as e:\n",
    "    print(f'ZIP file is invalid: {e}')"
   ]
  },
  {
   "cell_type": "code",
   "execution_count": 13,
   "id": "27475a7c",
   "metadata": {},
   "outputs": [
    {
     "name": "stdout",
     "output_type": "stream",
     "text": [
      "[2025-07-01 21:30:35,540] -> [INFO]: common - yaml file: config\\config.yaml loaded successfully\n",
      "[2025-07-01 21:30:35,546] -> [INFO]: common - yaml file: params.yaml loaded successfully\n",
      "[2025-07-01 21:30:35,550] -> [INFO]: common - created directory at: artifacts\n",
      "[2025-07-01 21:30:35,552] -> [INFO]: common - created directory at: artifacts/data_ingestion\n",
      "[2025-07-01 21:30:35,555] -> [INFO]: common - created directory at: artifacts/data_ingestion\n",
      "[2025-07-01 21:30:35,558] -> [INFO]: 1617986658 - File already exists of size: ~ 790 KB\n"
     ]
    }
   ],
   "source": [
    "try:\n",
    "    config = configuration_manager()\n",
    "    data_ingestion_config = config.get_data_ingestion_config()\n",
    "    data_ingestion = DataIngestion(config=data_ingestion_config)\n",
    "    data_ingestion.download_file()\n",
    "    data_ingestion.extract_zip_file()\n",
    "except Exception as e:\n",
    "    raise e"
   ]
  },
  {
   "cell_type": "code",
   "execution_count": null,
   "id": "62e43cc4",
   "metadata": {},
   "outputs": [],
   "source": []
  }
 ],
 "metadata": {
  "kernelspec": {
   "display_name": "summary",
   "language": "python",
   "name": "python3"
  },
  "language_info": {
   "codemirror_mode": {
    "name": "ipython",
    "version": 3
   },
   "file_extension": ".py",
   "mimetype": "text/x-python",
   "name": "python",
   "nbconvert_exporter": "python",
   "pygments_lexer": "ipython3",
   "version": "3.10.0"
  }
 },
 "nbformat": 4,
 "nbformat_minor": 5
}
